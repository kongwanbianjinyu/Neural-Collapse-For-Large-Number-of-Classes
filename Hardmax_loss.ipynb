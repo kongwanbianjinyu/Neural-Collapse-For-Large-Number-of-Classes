{
 "cells": [
  {
   "cell_type": "code",
   "execution_count": null,
   "id": "90286808-1b2b-447b-955e-96dd54e94aac",
   "metadata": {},
   "outputs": [],
   "source": [
    "import torch"
   ]
  },
  {
   "cell_type": "code",
   "execution_count": 4,
   "id": "e7e69f69-2549-403d-bb38-f38bfe4c9afb",
   "metadata": {},
   "outputs": [],
   "source": [
    "B = 2\n",
    "d = 5\n",
    "K = 10\n",
    "H = torch.randn(B, d)\n",
    "W = torch.randn(d, K)"
   ]
  },
  {
   "cell_type": "code",
   "execution_count": 5,
   "id": "846f235c-665a-440e-911f-15f3702a1f1a",
   "metadata": {},
   "outputs": [
    {
     "name": "stdout",
     "output_type": "stream",
     "text": [
      "tensor([[ 0.0855, -0.9382, -1.0874, -0.1199,  0.1954],\n",
      "        [-1.0851, -0.5325, -0.6179,  1.8915,  1.2001]])\n"
     ]
    }
   ],
   "source": [
    "print(H)"
   ]
  },
  {
   "cell_type": "code",
   "execution_count": 6,
   "id": "f82f7fb7-0a3e-4008-b724-f76a7bb8326e",
   "metadata": {},
   "outputs": [
    {
     "name": "stdout",
     "output_type": "stream",
     "text": [
      "tensor([[ 1.4312, -0.2968,  0.4988,  0.4924,  0.3102, -0.9185, -0.3232,  0.9647,\n",
      "         -0.0254, -0.9196],\n",
      "        [ 0.9457,  1.2960,  1.1203, -1.8730, -0.9057,  1.4638, -0.3205,  0.4202,\n",
      "         -0.7980, -0.1018],\n",
      "        [-1.2374,  0.6957,  0.6055, -2.6668, -0.0166, -0.9164,  0.2272, -0.5305,\n",
      "         -0.6770,  0.1091],\n",
      "        [-1.0104,  0.6874,  1.5926, -2.8893, -0.7684,  0.3507,  0.2068,  0.5255,\n",
      "         -0.1195, -0.5165],\n",
      "        [ 0.0471, -0.8722, -0.2331,  0.1574, -0.2418,  0.1179,  0.9156,  1.2464,\n",
      "         -1.7429, -1.5018]])\n"
     ]
    }
   ],
   "source": [
    "print(W)"
   ]
  },
  {
   "cell_type": "code",
   "execution_count": 8,
   "id": "0c510907-0b54-4d76-a092-c0e168f169fd",
   "metadata": {},
   "outputs": [
    {
     "name": "stdout",
     "output_type": "stream",
     "text": [
      "tensor([[ 0.7109, -2.2506, -1.9034,  5.0765,  0.9392, -0.4744,  0.1801,  0.4455,\n",
      "          1.1565, -0.3332],\n",
      "        [-3.1467, -0.5443,  1.2208, -3.1652, -1.5877,  1.5883,  1.8710,  1.5472,\n",
      "         -1.4470, -1.7948]])\n"
     ]
    }
   ],
   "source": [
    "HW = H @ W\n",
    "print(HW)"
   ]
  },
  {
   "cell_type": "code",
   "execution_count": 17,
   "id": "02a1a505-e23e-4ab2-a76d-063bddecb405",
   "metadata": {},
   "outputs": [
    {
     "name": "stdout",
     "output_type": "stream",
     "text": [
      "tensor([[1],\n",
      "        [9]])\n",
      "tensor([[-2.2506],\n",
      "        [-1.7948]])\n"
     ]
    }
   ],
   "source": [
    "y = torch.tensor([1,9])\n",
    "y = y.unsqueeze(1)\n",
    "print(y)\n",
    "l = HW.gather(1, y)\n",
    "print(l)"
   ]
  },
  {
   "cell_type": "code",
   "execution_count": 22,
   "id": "bb275d7e-5771-4365-aec2-aa46e19dc240",
   "metadata": {},
   "outputs": [
    {
     "name": "stdout",
     "output_type": "stream",
     "text": [
      "tensor([[ 2.9615,  0.0000,  0.3472,  7.3271,  3.1898,  1.7762,  2.4307,  2.6961,\n",
      "          3.4071,  1.9174],\n",
      "        [-1.3520,  1.2504,  3.0155, -1.3705,  0.2071,  3.3831,  3.6657,  3.3420,\n",
      "          0.3478,  0.0000]])\n"
     ]
    }
   ],
   "source": [
    "new_HW = HW - l\n",
    "print(new_HW)"
   ]
  },
  {
   "cell_type": "code",
   "execution_count": 23,
   "id": "7133a290-5977-4bfa-bd96-0e47e8f5cf12",
   "metadata": {},
   "outputs": [
    {
     "name": "stdout",
     "output_type": "stream",
     "text": [
      "tensor([0, 1])\n",
      "tensor([[ 2.9615,    -inf,  0.3472,  7.3271,  3.1898,  1.7762,  2.4307,  2.6961,\n",
      "          3.4071,  1.9174],\n",
      "        [-1.3520,  1.2504,  3.0155, -1.3705,  0.2071,  3.3831,  3.6657,  3.3420,\n",
      "          0.3478,    -inf]])\n"
     ]
    }
   ],
   "source": [
    "rows = torch.arange(B)\n",
    "print(rows)\n",
    "cols = torch.tensor([1,9])\n",
    "new_HW[rows, cols] = -torch.inf\n",
    "print(new_HW)"
   ]
  },
  {
   "cell_type": "code",
   "execution_count": 24,
   "id": "efb217c9-a74b-4bd3-9d72-407b0a785dd1",
   "metadata": {},
   "outputs": [],
   "source": [
    "loss = torch.max(new_HW)"
   ]
  },
  {
   "cell_type": "code",
   "execution_count": 25,
   "id": "26f744f2-0eb5-49b5-a52f-9f67e0c0d45f",
   "metadata": {},
   "outputs": [
    {
     "name": "stdout",
     "output_type": "stream",
     "text": [
      "tensor(7.3271)\n"
     ]
    }
   ],
   "source": [
    "print(loss)"
   ]
  },
  {
   "cell_type": "code",
   "execution_count": null,
   "id": "cad0e142-cecd-4dd0-b850-f78772d5f002",
   "metadata": {},
   "outputs": [],
   "source": []
  }
 ],
 "metadata": {
  "kernelspec": {
   "display_name": "pytorch",
   "language": "python",
   "name": "python3"
  },
  "language_info": {
   "codemirror_mode": {
    "name": "ipython",
    "version": 3
   },
   "file_extension": ".py",
   "mimetype": "text/x-python",
   "name": "python",
   "nbconvert_exporter": "python",
   "pygments_lexer": "ipython3",
   "version": "3.8.10"
  }
 },
 "nbformat": 4,
 "nbformat_minor": 5
}
