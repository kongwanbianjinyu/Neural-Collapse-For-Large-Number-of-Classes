{
 "cells": [
  {
   "cell_type": "markdown",
   "id": "fd943892-6aba-49d9-99e7-54f22f9c781e",
   "metadata": {},
   "source": [
    "# Resnet Imagenet"
   ]
  },
  {
   "cell_type": "code",
   "execution_count": 50,
   "id": "3ace57f9-01db-4da8-a839-57d49334908f",
   "metadata": {},
   "outputs": [
    {
     "name": "stderr",
     "output_type": "stream",
     "text": [
      "/home/jiang.2880/pytorch/lib/python3.8/site-packages/torchvision/models/_utils.py:223: UserWarning: Arguments other than a weight enum or `None` for 'weights' are deprecated since 0.13 and may be removed in the future. The current behavior is equivalent to passing `weights=ResNet34_Weights.IMAGENET1K_V1`. You can also use `weights=ResNet34_Weights.DEFAULT` to get the most up-to-date weights.\n",
      "  warnings.warn(msg)\n",
      "Downloading: \"https://download.pytorch.org/models/resnet34-b627a593.pth\" to /home/jiang.2880/.cache/torch/hub/checkpoints/resnet34-b627a593.pth\n",
      "100%|███████████████████████████████████████| 83.3M/83.3M [00:00<00:00, 409MB/s]\n"
     ]
    }
   ],
   "source": [
    "import torchvision.models as models\n",
    "resnet18 = models.resnet34(pretrained=True)"
   ]
  },
  {
   "cell_type": "code",
   "execution_count": 51,
   "id": "ad219f2a-9d9d-446f-ad74-5262de201317",
   "metadata": {},
   "outputs": [
    {
     "name": "stdout",
     "output_type": "stream",
     "text": [
      "torch.Size([1000, 512])\n"
     ]
    }
   ],
   "source": [
    "print(resnet18.fc.weight.shape)"
   ]
  },
  {
   "cell_type": "code",
   "execution_count": 52,
   "id": "619ccdef-450d-4e4a-9ee0-0fe3a7310189",
   "metadata": {},
   "outputs": [],
   "source": [
    "weights = resnet18.fc.weight\n",
    "W = nn.functional.normalize(weights, dim=1, p=2)\n",
    "W = W.detach().cpu().numpy()"
   ]
  },
  {
   "cell_type": "code",
   "execution_count": 53,
   "id": "7ab1a9de-b11c-4b20-aeb6-9f516c0eb24f",
   "metadata": {},
   "outputs": [
    {
     "name": "stdout",
     "output_type": "stream",
     "text": [
      "(1000, 512)\n"
     ]
    }
   ],
   "source": [
    "print(W.shape)"
   ]
  },
  {
   "cell_type": "code",
   "execution_count": 54,
   "id": "7413ba11-01b7-4993-93a1-46fb52f4dbb5",
   "metadata": {},
   "outputs": [],
   "source": [
    "\n",
    "def loss_func(W, H):\n",
    "    logits = W @ H.T\n",
    "    WH = torch.diag(logits).unsqueeze(0)\n",
    "    logits -= WH\n",
    "    logits -= 100 * torch.eye(W.shape[0]).to(W.device)\n",
    "    max_logits = torch.max(logits, dim=0, keepdim=True)[0]\n",
    "    return max_logits\n",
    "\n",
    "def minimize(W, H, lr=0.01, max_iter=10000):\n",
    "    \n",
    "    \"\"\"\n",
    "    Use gradient descent to minimize the objective function.\n",
    "    \"\"\"\n",
    "    # lr_sched = np.linspace(0, lr, num=max_iter)\n",
    "    # lr_sched = lr_sched[::-1]\n",
    "    lr_step_sched = max_iter // 5\n",
    "    H = torch.autograd.Variable(H.to(W.device), requires_grad=True)\n",
    "    for i in tqdm(range(max_iter)):\n",
    "        if (i+1) % lr_step_sched == 0:\n",
    "            lr *= 0.1\n",
    "        f = loss_func(W, H)\n",
    "        f_sum = f.sum()\n",
    "        f_sum.backward()\n",
    "        with torch.no_grad():\n",
    "            H -= lr * H.grad\n",
    "            H /= torch.norm(H, dim=1, keepdim=True)\n",
    "            H.grad.zero_()\n",
    "    return f, H\n",
    "\n",
    "def compute_NC2_matrix_form(W):\n",
    "    K, d = W.shape\n",
    "    W = torch.tensor(W).cuda()\n",
    "    W = W.detach()\n",
    "    H = torch.randn([K,d], device=W.device)\n",
    "    H /= torch.norm(H, dim=1, keepdim=True)\n",
    "    fs, H= minimize(W, H)\n",
    "\n",
    "    distance = torch.min(-fs)\n",
    "    return distance"
   ]
  },
  {
   "cell_type": "code",
   "execution_count": 55,
   "id": "9f9d1b8e-e63b-4f28-bfc3-21c6986e96ce",
   "metadata": {},
   "outputs": [
    {
     "name": "stderr",
     "output_type": "stream",
     "text": [
      "100%|████████████████████████████████████| 10000/10000 [00:15<00:00, 658.14it/s]"
     ]
    },
    {
     "name": "stdout",
     "output_type": "stream",
     "text": [
      "tensor(0.4902, device='cuda:0', grad_fn=<MinBackward1>)\n"
     ]
    },
    {
     "name": "stderr",
     "output_type": "stream",
     "text": [
      "\n"
     ]
    }
   ],
   "source": [
    "\n",
    "NC2 = compute_NC2_matrix_form(W)\n",
    "print(NC2)"
   ]
  },
  {
   "cell_type": "code",
   "execution_count": null,
   "id": "fb3632a3-2cda-4506-827f-7205e5abae3e",
   "metadata": {},
   "outputs": [],
   "source": [
    "# Resnet18: 0.4433\n",
    "# Resnet34: 0.4902\n",
    "# optimal : 0.9150"
   ]
  },
  {
   "cell_type": "code",
   "execution_count": null,
   "id": "02015caf-c192-4587-b015-70403fa01d05",
   "metadata": {},
   "outputs": [],
   "source": []
  }
 ],
 "metadata": {
  "kernelspec": {
   "display_name": "pytorch",
   "language": "python",
   "name": "pytorch"
  },
  "language_info": {
   "codemirror_mode": {
    "name": "ipython",
    "version": 3
   },
   "file_extension": ".py",
   "mimetype": "text/x-python",
   "name": "python",
   "nbconvert_exporter": "python",
   "pygments_lexer": "ipython3",
   "version": "3.8.10"
  }
 },
 "nbformat": 4,
 "nbformat_minor": 5
}
